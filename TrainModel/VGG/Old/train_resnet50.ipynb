{
 "cells": [
  {
   "cell_type": "markdown",
   "metadata": {},
   "source": [
    "# Import "
   ]
  },
  {
   "cell_type": "code",
   "execution_count": 1,
   "metadata": {},
   "outputs": [
    {
     "name": "stderr",
     "output_type": "stream",
     "text": [
      "2024-05-17 20:15:32.471326: I external/local_tsl/tsl/cuda/cudart_stub.cc:32] Could not find cuda drivers on your machine, GPU will not be used.\n",
      "2024-05-17 20:15:32.650472: I external/local_tsl/tsl/cuda/cudart_stub.cc:32] Could not find cuda drivers on your machine, GPU will not be used.\n",
      "2024-05-17 20:15:33.579438: I tensorflow/core/platform/cpu_feature_guard.cc:210] This TensorFlow binary is optimized to use available CPU instructions in performance-critical operations.\n",
      "To enable the following instructions: AVX2 FMA, in other operations, rebuild TensorFlow with the appropriate compiler flags.\n",
      "2024-05-17 20:15:38.562228: W tensorflow/compiler/tf2tensorrt/utils/py_utils.cc:38] TF-TRT Warning: Could not find TensorRT\n"
     ]
    }
   ],
   "source": [
    "import time\n",
    "import math, json, os, sys\n",
    "import matplotlib.pyplot as plt\n",
    "import keras\n",
    "from keras import backend as K\n",
    "from keras.callbacks import EarlyStopping, ModelCheckpoint\n",
    "from keras.layers import Dense, GlobalAveragePooling2D, Input, Flatten, Dropout\n",
    "from keras.models import Model\n",
    "from keras.optimizers import Adam, SGD\n",
    "from keras.preprocessing import image\n",
    "import pandas as pd\n",
    "import tensorflow as tf"
   ]
  },
  {
   "cell_type": "markdown",
   "metadata": {},
   "source": [
    "# Data processing "
   ]
  },
  {
   "cell_type": "markdown",
   "metadata": {},
   "source": [
    "## Split data  \n",
    "(Use only one and use this for all other model)  "
   ]
  },
  {
   "cell_type": "code",
   "execution_count": 2,
   "metadata": {},
   "outputs": [],
   "source": [
    "import os\n",
    "import shutil\n",
    "import random\n",
    "\n",
    "def split_data(SOURCE, TRAINING, VALIDATION, TESTING, SPLIT_SIZE):\n",
    "    all_files = os.listdir(SOURCE)\n",
    "    n_files = len(all_files)\n",
    "    random.shuffle(all_files)\n",
    "    \n",
    "    train_size = int(n_files * SPLIT_SIZE[0])\n",
    "    valid_size = int(n_files * SPLIT_SIZE[1])\n",
    "    \n",
    "    train_files = all_files[:train_size]\n",
    "    valid_files = all_files[train_size:train_size+valid_size]\n",
    "    test_files = all_files[train_size+valid_size:]\n",
    "    \n",
    "    for file_name in train_files:\n",
    "        source_file = os.path.join(SOURCE, file_name)\n",
    "        dest_file = os.path.join(TRAINING, file_name)\n",
    "        shutil.copyfile(source_file, dest_file)\n",
    "    \n",
    "    for file_name in valid_files:\n",
    "        source_file = os.path.join(SOURCE, file_name)\n",
    "        dest_file = os.path.join(VALIDATION, file_name)\n",
    "        shutil.copyfile(source_file, dest_file)\n",
    "    \n",
    "    for file_name in test_files:\n",
    "        source_file = os.path.join(SOURCE, file_name)\n",
    "        dest_file = os.path.join(TESTING, file_name)\n",
    "        shutil.copyfile(source_file, dest_file)\n",
    "\n",
    "# Define paths\n",
    "BASE_DIR = '160'\n",
    "CLASSES = ['Abnormal', 'Normal']\n",
    "SPLIT_SIZE = [0.4, 0.4, 0.2]\n",
    "\n",
    "for class_name in CLASSES:\n",
    "    SOURCE_DIR = os.path.join(BASE_DIR, class_name)\n",
    "    TRAINING_DIR = os.path.join(BASE_DIR, 'train', class_name)\n",
    "    VALIDATION_DIR = os.path.join(BASE_DIR, 'valid', class_name)\n",
    "    TESTING_DIR = os.path.join(BASE_DIR, 'test', class_name)\n",
    "    \n",
    "    os.makedirs(TRAINING_DIR, exist_ok=True)\n",
    "    os.makedirs(VALIDATION_DIR, exist_ok=True)\n",
    "    os.makedirs(TESTING_DIR, exist_ok=True)\n",
    "    \n",
    "    split_data(SOURCE_DIR, TRAINING_DIR, VALIDATION_DIR, TESTING_DIR, SPLIT_SIZE)"
   ]
  },
  {
   "cell_type": "markdown",
   "metadata": {},
   "source": [
    "## Get data"
   ]
  },
  {
   "cell_type": "code",
   "execution_count": 4,
   "metadata": {},
   "outputs": [],
   "source": [
    "DATA_DIR = '160/'\n",
    "TRAIN_DIR = os.path.join(DATA_DIR, 'train')\n",
    "VALID_DIR = os.path.join(DATA_DIR, 'val')\n",
    "TARGET_SIZE = (64, 64)\n",
    "BATCH_SIZE = 256"
   ]
  },
  {
   "cell_type": "code",
   "execution_count": 5,
   "metadata": {},
   "outputs": [
    {
     "name": "stdout",
     "output_type": "stream",
     "text": [
      "Found 13313 images belonging to 2 classes.\n",
      "Found 13313 images belonging to 2 classes.\n",
      "Found 6658 images belonging to 2 classes.\n"
     ]
    }
   ],
   "source": [
    "from tensorflow.keras.preprocessing.image import ImageDataGenerator\n",
    "\n",
    "# Data generators\n",
    "train_datagen = ImageDataGenerator(rescale=1/255.0)\n",
    "valid_datagen = ImageDataGenerator(rescale=1/255.0)\n",
    "test_datagen = ImageDataGenerator(rescale=1/255.0)\n",
    "\n",
    "train_generator = train_datagen.flow_from_directory(\n",
    "    os.path.join(DATA_DIR, 'train'),\n",
    "    target_size=TARGET_SIZE,\n",
    "    batch_size=BATCH_SIZE,\n",
    "    class_mode='categorical',\n",
    "    shuffle=True\n",
    ")\n",
    "\n",
    "valid_generator = valid_datagen.flow_from_directory(\n",
    "    os.path.join(DATA_DIR, 'valid'),\n",
    "    target_size=TARGET_SIZE,\n",
    "    batch_size=BATCH_SIZE,\n",
    "    class_mode='categorical',\n",
    "    shuffle=True\n",
    ")\n",
    "\n",
    "test_generator = test_datagen.flow_from_directory(\n",
    "    os.path.join(DATA_DIR, 'test'),\n",
    "    target_size=TARGET_SIZE,\n",
    "    batch_size=BATCH_SIZE,\n",
    "    class_mode='categorical',\n",
    "    shuffle=False\n",
    ")"
   ]
  },
  {
   "cell_type": "code",
   "execution_count": 6,
   "metadata": {},
   "outputs": [
    {
     "name": "stdout",
     "output_type": "stream",
     "text": [
      "Class Indices:  {'Abnormal': 0, 'Normal': 1}\n",
      "Number of training samples: 13313\n",
      "Number of validation samples: 13313\n",
      "Number of test samples: 6658\n",
      "Training set:\n",
      "Abnormal (0): 5249 files\n",
      "Normal (1): 8064 files\n",
      "Validation set:\n",
      "Abnormal (0): 5249 files\n",
      "Normal (1): 8064 files\n",
      "Test set:\n",
      "Abnormal (0): 2626 files\n",
      "Normal (1): 4032 files\n"
     ]
    }
   ],
   "source": [
    "# Display information\n",
    "print(\"Class Indices: \", train_generator.class_indices)\n",
    "\n",
    "print(f\"Number of training samples: {train_generator.samples}\")\n",
    "print(f\"Number of validation samples: {valid_generator.samples}\")\n",
    "print(f\"Number of test samples: {test_generator.samples}\")\n",
    "\n",
    "print(\"Training set:\")\n",
    "for class_name, idx in train_generator.class_indices.items():\n",
    "    num_files = len(os.listdir(os.path.join(BASE_DIR, 'train', class_name)))\n",
    "    print(f\"{class_name} ({idx}): {num_files} files\")\n",
    "\n",
    "print(\"Validation set:\")\n",
    "for class_name, idx in valid_generator.class_indices.items():\n",
    "    num_files = len(os.listdir(os.path.join(BASE_DIR, 'valid', class_name)))\n",
    "    print(f\"{class_name} ({idx}): {num_files} files\")\n",
    "\n",
    "print(\"Test set:\")\n",
    "for class_name, idx in test_generator.class_indices.items():\n",
    "    num_files = len(os.listdir(os.path.join(BASE_DIR, 'test', class_name)))\n",
    "    print(f\"{class_name} ({idx}): {num_files} files\")\n"
   ]
  },
  {
   "cell_type": "markdown",
   "metadata": {},
   "source": [
    "# Save & visualize history of training"
   ]
  },
  {
   "cell_type": "code",
   "execution_count": 7,
   "metadata": {},
   "outputs": [],
   "source": [
    "import pandas as pd\n",
    "\n",
    "\n",
    "def save_history(history):\n",
    "    acc = pd.Series(history.history[\"accuracy\"], name=\"accuracy\")\n",
    "    loss = pd.Series(history.history[\"loss\"], name=\"loss\")\n",
    "    val_acc = pd.Series(history.history[\"val_accuracy\"], name=\"val_accuracy\")\n",
    "    val_loss = pd.Series(history.history[\"val_loss\"], name=\"val_loss\")\n",
    "    com = pd.concat([acc, loss, val_acc, val_loss], axis=1)\n",
    "    com.to_csv(\"history.csv\", index=False)\n",
    "\n",
    "\n",
    "import matplotlib.pyplot as plt\n",
    "\n",
    "\n",
    "def plot_history(history):\n",
    "    plt.plot(history.history[\"accuracy\"])\n",
    "    plt.plot(history.history[\"val_accuracy\"])\n",
    "    plt.plot(history.history[\"loss\"])\n",
    "    plt.plot(history.history[\"val_loss\"])\n",
    "    plt.title(\"Model Accuracy and Loss\")\n",
    "    plt.ylabel(\"Accuracy/Loss\")\n",
    "    plt.xlabel(\"Epoch\")\n",
    "    plt.legend([\"accuracy\", \"val_accuracy\", \"loss\", \"val_loss\"], loc=\"upper right\")\n",
    "    plt.show()\n",
    "    plt.savefig(\"model_accuracy_loss.png\")"
   ]
  },
  {
   "cell_type": "markdown",
   "metadata": {},
   "source": [
    "# Train model"
   ]
  },
  {
   "cell_type": "code",
   "execution_count": null,
   "metadata": {},
   "outputs": [],
   "source": [
    "start = time.process_time()\n",
    "# num_train_steps = math.floor(13313 / BATCH_SIZE)\n",
    "# num_valid_steps = math.floor(13313 / BATCH_SIZE)\n",
    "num_train_steps = 13313 // BATCH_SIZE\n",
    "num_valid_steps = 13313 // BATCH_SIZE\n",
    "classes = list(iter(train_generator.class_indices))\n",
    "Inp = Input((64, 64, 3))\n",
    "base_model = keras.applications.resnet50.ResNet50(\n",
    "    weights=\"imagenet\", include_top=False, input_shape=(64, 64, 3)\n",
    ")\n",
    "x = base_model(Inp)\n",
    "x = Flatten(name=\"flatten\")(x)\n",
    "x = Dense(1024, activation=\"relu\")(x) \n",
    "x = Dropout(0.5)(x)\n",
    "predictions = Dense(len(classes), activation=\"softmax\")(x)\n",
    "finetuned_model = Model(inputs=Inp, outputs=predictions)\n",
    "for layer in base_model.layers:\n",
    "    layer.trainable = False\n",
    "# sgd = SGD(lr=0.0001, decay=1e-6, momentum=0.5)\n",
    "finetuned_model.compile(\n",
    "    optimizer=Adam(learning_rate=0.0001), loss=\"categorical_crossentropy\", metrics=[\"accuracy\"]\n",
    ")\n",
    "for c in train_generator.class_indices:\n",
    "    classes[train_generator.class_indices[c]] = c\n",
    "finetuned_model.classes = classes\n",
    "early_stopping = EarlyStopping(patience=15)\n",
    "checkpointer = ModelCheckpoint(\n",
    "    \"resnet50_best.keras\",\n",
    "    verbose=1,\n",
    "    save_best_only=True,\n",
    ")\n",
    "History = finetuned_model.fit(\n",
    "    train_generator,\n",
    "    steps_per_epoch=num_train_steps,\n",
    "    epochs=15,\n",
    "    callbacks=[early_stopping, checkpointer],\n",
    "    validation_data=valid_generator,\n",
    "    validation_steps=num_valid_steps,\n",
    ")\n",
    "save_history(History)\n",
    "plot_history(History)\n",
    "end2 = time.process_time()\n",
    "print(\"final is in \", end2 - start)"
   ]
  },
  {
   "cell_type": "code",
   "execution_count": 15,
   "metadata": {},
   "outputs": [
    {
     "data": {
      "image/png": "[encoded data removed]",
      "text/plain": [
       "<Figure size 640x480 with 1 Axes>"
      ]
     },
     "metadata": {},
     "output_type": "display_data"
    },
    {
     "data": {
      "text/plain": [
       "<Figure size 640x480 with 0 Axes>"
      ]
     },
     "metadata": {},
     "output_type": "display_data"
    }
   ],
   "source": [
    "save_history(History)\n",
    "plot_history(History)"
   ]
  },
  {
   "cell_type": "code",
   "execution_count": 8,
   "metadata": {},
   "outputs": [],
   "source": [
    "num_train_steps = 13313 // BATCH_SIZE\n",
    "num_valid_steps = 13313 // BATCH_SIZE"
   ]
  },
  {
   "cell_type": "code",
   "execution_count": 11,
   "metadata": {},
   "outputs": [
    {
     "data": {
      "text/html": [
       "<pre style=\"white-space:pre;overflow-x:auto;line-height:normal;font-family:Menlo,'DejaVu Sans Mono',consolas,'Courier New',monospace\"><span style=\"font-weight: bold\">Model: \"functional_1\"</span>\n",
       "</pre>\n"
      ],
      "text/plain": [
       "\u001b[1mModel: \"functional_1\"\u001b[0m\n"
      ]
     },
     "metadata": {},
     "output_type": "display_data"
    },
    {
     "data": {
      "text/html": [
       "<pre style=\"white-space:pre;overflow-x:auto;line-height:normal;font-family:Menlo,'DejaVu Sans Mono',consolas,'Courier New',monospace\">┏━━━━━━━━━━━━━━━━━━━━━━━━━━━━━━━━━┳━━━━━━━━━━━━━━━━━━━━━━━━┳━━━━━━━━━━━━━━━┓\n",
       "┃<span style=\"font-weight: bold\"> Layer (type)                    </span>┃<span style=\"font-weight: bold\"> Output Shape           </span>┃<span style=\"font-weight: bold\">       Param # </span>┃\n",
       "┡━━━━━━━━━━━━━━━━━━━━━━━━━━━━━━━━━╇━━━━━━━━━━━━━━━━━━━━━━━━╇━━━━━━━━━━━━━━━┩\n",
       "│ input_layer (<span style=\"color: #0087ff; text-decoration-color: #0087ff\">InputLayer</span>)        │ (<span style=\"color: #00d7ff; text-decoration-color: #00d7ff\">None</span>, <span style=\"color: #00af00; text-decoration-color: #00af00\">64</span>, <span style=\"color: #00af00; text-decoration-color: #00af00\">64</span>, <span style=\"color: #00af00; text-decoration-color: #00af00\">3</span>)      │             <span style=\"color: #00af00; text-decoration-color: #00af00\">0</span> │\n",
       "├─────────────────────────────────┼────────────────────────┼───────────────┤\n",
       "│ resnet50 (<span style=\"color: #0087ff; text-decoration-color: #0087ff\">Functional</span>)           │ (<span style=\"color: #00d7ff; text-decoration-color: #00d7ff\">None</span>, <span style=\"color: #00af00; text-decoration-color: #00af00\">2</span>, <span style=\"color: #00af00; text-decoration-color: #00af00\">2</span>, <span style=\"color: #00af00; text-decoration-color: #00af00\">2048</span>)     │    <span style=\"color: #00af00; text-decoration-color: #00af00\">23,587,712</span> │\n",
       "├─────────────────────────────────┼────────────────────────┼───────────────┤\n",
       "│ flatten (<span style=\"color: #0087ff; text-decoration-color: #0087ff\">Flatten</span>)               │ (<span style=\"color: #00d7ff; text-decoration-color: #00d7ff\">None</span>, <span style=\"color: #00af00; text-decoration-color: #00af00\">8192</span>)           │             <span style=\"color: #00af00; text-decoration-color: #00af00\">0</span> │\n",
       "├─────────────────────────────────┼────────────────────────┼───────────────┤\n",
       "│ dense (<span style=\"color: #0087ff; text-decoration-color: #0087ff\">Dense</span>)                   │ (<span style=\"color: #00d7ff; text-decoration-color: #00d7ff\">None</span>, <span style=\"color: #00af00; text-decoration-color: #00af00\">1024</span>)           │     <span style=\"color: #00af00; text-decoration-color: #00af00\">8,389,632</span> │\n",
       "├─────────────────────────────────┼────────────────────────┼───────────────┤\n",
       "│ dropout (<span style=\"color: #0087ff; text-decoration-color: #0087ff\">Dropout</span>)               │ (<span style=\"color: #00d7ff; text-decoration-color: #00d7ff\">None</span>, <span style=\"color: #00af00; text-decoration-color: #00af00\">1024</span>)           │             <span style=\"color: #00af00; text-decoration-color: #00af00\">0</span> │\n",
       "├─────────────────────────────────┼────────────────────────┼───────────────┤\n",
       "│ dense_1 (<span style=\"color: #0087ff; text-decoration-color: #0087ff\">Dense</span>)                 │ (<span style=\"color: #00d7ff; text-decoration-color: #00d7ff\">None</span>, <span style=\"color: #00af00; text-decoration-color: #00af00\">2</span>)              │         <span style=\"color: #00af00; text-decoration-color: #00af00\">2,050</span> │\n",
       "└─────────────────────────────────┴────────────────────────┴───────────────┘\n",
       "</pre>\n"
      ],
      "text/plain": [
       "┏━━━━━━━━━━━━━━━━━━━━━━━━━━━━━━━━━┳━━━━━━━━━━━━━━━━━━━━━━━━┳━━━━━━━━━━━━━━━┓\n",
       "┃\u001b[1m \u001b[0m\u001b[1mLayer (type)                   \u001b[0m\u001b[1m \u001b[0m┃\u001b[1m \u001b[0m\u001b[1mOutput Shape          \u001b[0m\u001b[1m \u001b[0m┃\u001b[1m \u001b[0m\u001b[1m      Param #\u001b[0m\u001b[1m \u001b[0m┃\n",
       "┡━━━━━━━━━━━━━━━━━━━━━━━━━━━━━━━━━╇━━━━━━━━━━━━━━━━━━━━━━━━╇━━━━━━━━━━━━━━━┩\n",
       "│ input_layer (\u001b[38;5;33mInputLayer\u001b[0m)        │ (\u001b[38;5;45mNone\u001b[0m, \u001b[38;5;34m64\u001b[0m, \u001b[38;5;34m64\u001b[0m, \u001b[38;5;34m3\u001b[0m)      │             \u001b[38;5;34m0\u001b[0m │\n",
       "├─────────────────────────────────┼────────────────────────┼───────────────┤\n",
       "│ resnet50 (\u001b[38;5;33mFunctional\u001b[0m)           │ (\u001b[38;5;45mNone\u001b[0m, \u001b[38;5;34m2\u001b[0m, \u001b[38;5;34m2\u001b[0m, \u001b[38;5;34m2048\u001b[0m)     │    \u001b[38;5;34m23,587,712\u001b[0m │\n",
       "├─────────────────────────────────┼────────────────────────┼───────────────┤\n",
       "│ flatten (\u001b[38;5;33mFlatten\u001b[0m)               │ (\u001b[38;5;45mNone\u001b[0m, \u001b[38;5;34m8192\u001b[0m)           │             \u001b[38;5;34m0\u001b[0m │\n",
       "├─────────────────────────────────┼────────────────────────┼───────────────┤\n",
       "│ dense (\u001b[38;5;33mDense\u001b[0m)                   │ (\u001b[38;5;45mNone\u001b[0m, \u001b[38;5;34m1024\u001b[0m)           │     \u001b[38;5;34m8,389,632\u001b[0m │\n",
       "├─────────────────────────────────┼────────────────────────┼───────────────┤\n",
       "│ dropout (\u001b[38;5;33mDropout\u001b[0m)               │ (\u001b[38;5;45mNone\u001b[0m, \u001b[38;5;34m1024\u001b[0m)           │             \u001b[38;5;34m0\u001b[0m │\n",
       "├─────────────────────────────────┼────────────────────────┼───────────────┤\n",
       "│ dense_1 (\u001b[38;5;33mDense\u001b[0m)                 │ (\u001b[38;5;45mNone\u001b[0m, \u001b[38;5;34m2\u001b[0m)              │         \u001b[38;5;34m2,050\u001b[0m │\n",
       "└─────────────────────────────────┴────────────────────────┴───────────────┘\n"
      ]
     },
     "metadata": {},
     "output_type": "display_data"
    },
    {
     "data": {
      "text/html": [
       "<pre style=\"white-space:pre;overflow-x:auto;line-height:normal;font-family:Menlo,'DejaVu Sans Mono',consolas,'Courier New',monospace\"><span style=\"font-weight: bold\"> Total params: </span><span style=\"color: #00af00; text-decoration-color: #00af00\">31,979,394</span> (121.99 MB)\n",
       "</pre>\n"
      ],
      "text/plain": [
       "\u001b[1m Total params: \u001b[0m\u001b[38;5;34m31,979,394\u001b[0m (121.99 MB)\n"
      ]
     },
     "metadata": {},
     "output_type": "display_data"
    },
    {
     "data": {
      "text/html": [
       "<pre style=\"white-space:pre;overflow-x:auto;line-height:normal;font-family:Menlo,'DejaVu Sans Mono',consolas,'Courier New',monospace\"><span style=\"font-weight: bold\"> Trainable params: </span><span style=\"color: #00af00; text-decoration-color: #00af00\">8,391,682</span> (32.01 MB)\n",
       "</pre>\n"
      ],
      "text/plain": [
       "\u001b[1m Trainable params: \u001b[0m\u001b[38;5;34m8,391,682\u001b[0m (32.01 MB)\n"
      ]
     },
     "metadata": {},
     "output_type": "display_data"
    },
    {
     "data": {
      "text/html": [
       "<pre style=\"white-space:pre;overflow-x:auto;line-height:normal;font-family:Menlo,'DejaVu Sans Mono',consolas,'Courier New',monospace\"><span style=\"font-weight: bold\"> Non-trainable params: </span><span style=\"color: #00af00; text-decoration-color: #00af00\">23,587,712</span> (89.98 MB)\n",
       "</pre>\n"
      ],
      "text/plain": [
       "\u001b[1m Non-trainable params: \u001b[0m\u001b[38;5;34m23,587,712\u001b[0m (89.98 MB)\n"
      ]
     },
     "metadata": {},
     "output_type": "display_data"
    }
   ],
   "source": [
    "classes = list(iter(train_generator.class_indices))\n",
    "Inp = Input((64, 64, 3))\n",
    "base_model = keras.applications.resnet50.ResNet50(\n",
    "    weights=\"imagenet\", include_top=False, input_shape=(64, 64, 3)\n",
    ")\n",
    "x = base_model(Inp)\n",
    "x = Flatten(name=\"flatten\")(x)\n",
    "x = Dense(1024, activation=\"relu\")(x) \n",
    "x = Dropout(0.5)(x)\n",
    "predictions = Dense(len(classes), activation=\"softmax\")(x)\n",
    "finetuned_model = Model(inputs=Inp, outputs=predictions)\n",
    "for layer in base_model.layers:\n",
    "    layer.trainable = False\n",
    "# sgd = SGD(lr=0.0001, decay=1e-6, momentum=0.5)\n",
    "# Load the previously saved weights\n",
    "finetuned_model.load_weights('/mnt/DataK/Project/GasHisCancer/PatchLevel_GasHisSDB/resnet50_best.keras')\n",
    "\n",
    "finetuned_model.summary()\n"
   ]
  },
  {
   "cell_type": "code",
   "execution_count": 14,
   "metadata": {},
   "outputs": [
    {
     "name": "stdout",
     "output_type": "stream",
     "text": [
      "Epoch 1/15\n",
      "\u001b[1m52/52\u001b[0m \u001b[32m━━━━━━━━━━━━━━━━━━━━\u001b[0m\u001b[37m\u001b[0m \u001b[1m0s\u001b[0m 3s/step - accuracy: 0.6253 - loss: 0.6240\n",
      "Epoch 1: val_loss did not improve from 0.19141\n",
      "\u001b[1m52/52\u001b[0m \u001b[32m━━━━━━━━━━━━━━━━━━━━\u001b[0m\u001b[37m\u001b[0m \u001b[1m360s\u001b[0m 7s/step - accuracy: 0.6252 - loss: 0.6240 - val_accuracy: 0.6263 - val_loss: 0.6181\n",
      "Epoch 2/15\n",
      "\u001b[1m 1/52\u001b[0m \u001b[37m━━━━━━━━━━━━━━━━━━━━\u001b[0m \u001b[1m3:16\u001b[0m 4s/step - accuracy: 0.5938 - loss: 0.6582\n",
      "Epoch 2: val_loss did not improve from 0.19141\n",
      "\u001b[1m52/52\u001b[0m \u001b[32m━━━━━━━━━━━━━━━━━━━━\u001b[0m\u001b[37m\u001b[0m \u001b[1m4s\u001b[0m 2ms/step - accuracy: 0.5938 - loss: 0.6582 - val_accuracy: 1.0000 - val_loss: 0.6154\n",
      "Epoch 3/15\n"
     ]
    },
    {
     "name": "stderr",
     "output_type": "stream",
     "text": [
      "2024-05-17 22:57:20.645998: W tensorflow/core/framework/local_rendezvous.cc:404] Local rendezvous is aborting with status: OUT_OF_RANGE: End of sequence\n",
      "\t [[{{node IteratorGetNext}}]]\n",
      "2024-05-17 22:57:20.701443: W tensorflow/core/framework/local_rendezvous.cc:404] Local rendezvous is aborting with status: OUT_OF_RANGE: End of sequence\n",
      "\t [[{{node IteratorGetNext}}]]\n"
     ]
    },
    {
     "name": "stdout",
     "output_type": "stream",
     "text": [
      "\u001b[1m52/52\u001b[0m \u001b[32m━━━━━━━━━━━━━━━━━━━━\u001b[0m\u001b[37m\u001b[0m \u001b[1m0s\u001b[0m 4s/step - accuracy: 0.6220 - loss: 0.6250\n",
      "Epoch 3: val_loss did not improve from 0.19141\n",
      "\u001b[1m52/52\u001b[0m \u001b[32m━━━━━━━━━━━━━━━━━━━━\u001b[0m\u001b[37m\u001b[0m \u001b[1m417s\u001b[0m 8s/step - accuracy: 0.6221 - loss: 0.6250 - val_accuracy: 0.6270 - val_loss: 0.6177\n",
      "Epoch 4/15\n",
      "\u001b[1m 1/52\u001b[0m \u001b[37m━━━━━━━━━━━━━━━━━━━━\u001b[0m \u001b[1m3:14\u001b[0m 4s/step - accuracy: 0.5664 - loss: 0.6603\n",
      "Epoch 4: val_loss improved from 0.19141 to 0.15996, saving model to resnet50_best.keras\n"
     ]
    },
    {
     "name": "stderr",
     "output_type": "stream",
     "text": [
      "2024-05-17 23:04:21.608691: W tensorflow/core/framework/local_rendezvous.cc:404] Local rendezvous is aborting with status: OUT_OF_RANGE: End of sequence\n",
      "\t [[{{node IteratorGetNext}}]]\n",
      "2024-05-17 23:04:21.686244: W tensorflow/core/framework/local_rendezvous.cc:404] Local rendezvous is aborting with status: OUT_OF_RANGE: End of sequence\n",
      "\t [[{{node IteratorGetNext}}]]\n"
     ]
    },
    {
     "name": "stdout",
     "output_type": "stream",
     "text": [
      "\u001b[1m52/52\u001b[0m \u001b[32m━━━━━━━━━━━━━━━━━━━━\u001b[0m\u001b[37m\u001b[0m \u001b[1m9s\u001b[0m 101ms/step - accuracy: 0.5664 - loss: 0.6603 - val_accuracy: 1.0000 - val_loss: 0.1600\n",
      "Epoch 5/15\n",
      "\u001b[1m52/52\u001b[0m \u001b[32m━━━━━━━━━━━━━━━━━━━━\u001b[0m\u001b[37m\u001b[0m \u001b[1m0s\u001b[0m 3s/step - accuracy: 0.6183 - loss: 0.6259\n",
      "Epoch 5: val_loss did not improve from 0.15996\n",
      "\u001b[1m52/52\u001b[0m \u001b[32m━━━━━━━━━━━━━━━━━━━━\u001b[0m\u001b[37m\u001b[0m \u001b[1m338s\u001b[0m 6s/step - accuracy: 0.6184 - loss: 0.6258 - val_accuracy: 0.6265 - val_loss: 0.6193\n",
      "Epoch 6/15\n",
      "\u001b[1m 1/52\u001b[0m \u001b[37m━━━━━━━━━━━━━━━━━━━━\u001b[0m \u001b[1m2:59\u001b[0m 4s/step - accuracy: 0.6289 - loss: 0.6400\n",
      "Epoch 6: val_loss did not improve from 0.15996\n",
      "\u001b[1m52/52\u001b[0m \u001b[32m━━━━━━━━━━━━━━━━━━━━\u001b[0m\u001b[37m\u001b[0m \u001b[1m4s\u001b[0m 2ms/step - accuracy: 0.6289 - loss: 0.6400 - val_accuracy: 0.0000e+00 - val_loss: 0.9602\n",
      "Epoch 7/15\n"
     ]
    },
    {
     "name": "stderr",
     "output_type": "stream",
     "text": [
      "2024-05-17 23:10:07.899739: W tensorflow/core/framework/local_rendezvous.cc:404] Local rendezvous is aborting with status: OUT_OF_RANGE: End of sequence\n",
      "\t [[{{node IteratorGetNext}}]]\n",
      "2024-05-17 23:10:07.955162: W tensorflow/core/framework/local_rendezvous.cc:404] Local rendezvous is aborting with status: OUT_OF_RANGE: End of sequence\n",
      "\t [[{{node IteratorGetNext}}]]\n"
     ]
    },
    {
     "name": "stdout",
     "output_type": "stream",
     "text": [
      "\u001b[1m52/52\u001b[0m \u001b[32m━━━━━━━━━━━━━━━━━━━━\u001b[0m\u001b[37m\u001b[0m \u001b[1m0s\u001b[0m 3s/step - accuracy: 0.6218 - loss: 0.6302\n",
      "Epoch 7: val_loss did not improve from 0.15996\n",
      "\u001b[1m52/52\u001b[0m \u001b[32m━━━━━━━━━━━━━━━━━━━━\u001b[0m\u001b[37m\u001b[0m \u001b[1m340s\u001b[0m 7s/step - accuracy: 0.6218 - loss: 0.6301 - val_accuracy: 0.6252 - val_loss: 0.6192\n",
      "Epoch 8/15\n",
      "\u001b[1m 1/52\u001b[0m \u001b[37m━━━━━━━━━━━━━━━━━━━━\u001b[0m \u001b[1m2:17\u001b[0m 3s/step - accuracy: 0.5859 - loss: 0.6328\n",
      "Epoch 8: val_loss did not improve from 0.15996\n",
      "\u001b[1m52/52\u001b[0m \u001b[32m━━━━━━━━━━━━━━━━━━━━\u001b[0m\u001b[37m\u001b[0m \u001b[1m3s\u001b[0m 1ms/step - accuracy: 0.5859 - loss: 0.6328 - val_accuracy: 0.0000e+00 - val_loss: 1.0565\n",
      "Epoch 9/15\n"
     ]
    },
    {
     "name": "stderr",
     "output_type": "stream",
     "text": [
      "2024-05-17 23:15:51.002049: W tensorflow/core/framework/local_rendezvous.cc:404] Local rendezvous is aborting with status: OUT_OF_RANGE: End of sequence\n",
      "\t [[{{node IteratorGetNext}}]]\n",
      "2024-05-17 23:15:51.040606: W tensorflow/core/framework/local_rendezvous.cc:404] Local rendezvous is aborting with status: OUT_OF_RANGE: End of sequence\n",
      "\t [[{{node IteratorGetNext}}]]\n"
     ]
    },
    {
     "name": "stdout",
     "output_type": "stream",
     "text": [
      "\u001b[1m52/52\u001b[0m \u001b[32m━━━━━━━━━━━━━━━━━━━━\u001b[0m\u001b[37m\u001b[0m \u001b[1m0s\u001b[0m 4s/step - accuracy: 0.6220 - loss: 0.6248\n",
      "Epoch 9: val_loss did not improve from 0.15996\n",
      "\u001b[1m52/52\u001b[0m \u001b[32m━━━━━━━━━━━━━━━━━━━━\u001b[0m\u001b[37m\u001b[0m \u001b[1m349s\u001b[0m 7s/step - accuracy: 0.6221 - loss: 0.6247 - val_accuracy: 0.6252 - val_loss: 0.6192\n",
      "Epoch 10/15\n",
      "\u001b[1m 1/52\u001b[0m \u001b[37m━━━━━━━━━━━━━━━━━━━━\u001b[0m \u001b[1m2:27\u001b[0m 3s/step - accuracy: 0.6445 - loss: 0.6267\n",
      "Epoch 10: val_loss did not improve from 0.15996\n",
      "\u001b[1m52/52\u001b[0m \u001b[32m━━━━━━━━━━━━━━━━━━━━\u001b[0m\u001b[37m\u001b[0m \u001b[1m3s\u001b[0m 2ms/step - accuracy: 0.6445 - loss: 0.6267 - val_accuracy: 1.0000 - val_loss: 0.5539\n",
      "Epoch 11/15\n"
     ]
    },
    {
     "name": "stderr",
     "output_type": "stream",
     "text": [
      "2024-05-17 23:21:42.765100: W tensorflow/core/framework/local_rendezvous.cc:404] Local rendezvous is aborting with status: OUT_OF_RANGE: End of sequence\n",
      "\t [[{{node IteratorGetNext}}]]\n",
      "2024-05-17 23:21:42.808425: W tensorflow/core/framework/local_rendezvous.cc:404] Local rendezvous is aborting with status: OUT_OF_RANGE: End of sequence\n",
      "\t [[{{node IteratorGetNext}}]]\n"
     ]
    },
    {
     "name": "stdout",
     "output_type": "stream",
     "text": [
      "\u001b[1m52/52\u001b[0m \u001b[32m━━━━━━━━━━━━━━━━━━━━\u001b[0m\u001b[37m\u001b[0m \u001b[1m0s\u001b[0m 3s/step - accuracy: 0.6271 - loss: 0.6251\n",
      "Epoch 11: val_loss did not improve from 0.15996\n",
      "\u001b[1m52/52\u001b[0m \u001b[32m━━━━━━━━━━━━━━━━━━━━\u001b[0m\u001b[37m\u001b[0m \u001b[1m304s\u001b[0m 6s/step - accuracy: 0.6271 - loss: 0.6251 - val_accuracy: 0.6188 - val_loss: 0.6222\n",
      "Epoch 12/15\n",
      "\u001b[1m 1/52\u001b[0m \u001b[37m━━━━━━━━━━━━━━━━━━━━\u001b[0m \u001b[1m2:37\u001b[0m 3s/step - accuracy: 0.6055 - loss: 0.6169\n",
      "Epoch 12: val_loss improved from 0.15996 to 0.15206, saving model to resnet50_best.keras\n"
     ]
    },
    {
     "name": "stderr",
     "output_type": "stream",
     "text": [
      "2024-05-17 23:26:50.068647: W tensorflow/core/framework/local_rendezvous.cc:404] Local rendezvous is aborting with status: OUT_OF_RANGE: End of sequence\n",
      "\t [[{{node IteratorGetNext}}]]\n",
      "2024-05-17 23:26:50.133486: W tensorflow/core/framework/local_rendezvous.cc:404] Local rendezvous is aborting with status: OUT_OF_RANGE: End of sequence\n",
      "\t [[{{node IteratorGetNext}}]]\n"
     ]
    },
    {
     "name": "stdout",
     "output_type": "stream",
     "text": [
      "\u001b[1m52/52\u001b[0m \u001b[32m━━━━━━━━━━━━━━━━━━━━\u001b[0m\u001b[37m\u001b[0m \u001b[1m7s\u001b[0m 71ms/step - accuracy: 0.6055 - loss: 0.6169 - val_accuracy: 1.0000 - val_loss: 0.1521\n",
      "Epoch 13/15\n",
      "\u001b[1m52/52\u001b[0m \u001b[32m━━━━━━━━━━━━━━━━━━━━\u001b[0m\u001b[37m\u001b[0m \u001b[1m0s\u001b[0m 3s/step - accuracy: 0.6222 - loss: 0.6248\n",
      "Epoch 13: val_loss did not improve from 0.15206\n",
      "\u001b[1m52/52\u001b[0m \u001b[32m━━━━━━━━━━━━━━━━━━━━\u001b[0m\u001b[37m\u001b[0m \u001b[1m348s\u001b[0m 7s/step - accuracy: 0.6223 - loss: 0.6247 - val_accuracy: 0.6301 - val_loss: 0.6168\n",
      "Epoch 14/15\n",
      "\u001b[1m 1/52\u001b[0m \u001b[37m━━━━━━━━━━━━━━━━━━━━\u001b[0m \u001b[1m9s\u001b[0m 178ms/step - accuracy: 1.0000 - loss: 0.1608\n",
      "Epoch 14: val_loss did not improve from 0.15206\n",
      "\u001b[1m52/52\u001b[0m \u001b[32m━━━━━━━━━━━━━━━━━━━━\u001b[0m\u001b[37m\u001b[0m \u001b[1m0s\u001b[0m 2ms/step - accuracy: 1.0000 - loss: 0.1608 - val_accuracy: 0.0000e+00 - val_loss: 0.9520\n",
      "Epoch 15/15\n"
     ]
    },
    {
     "name": "stderr",
     "output_type": "stream",
     "text": [
      "2024-05-17 23:32:41.532546: W tensorflow/core/framework/local_rendezvous.cc:404] Local rendezvous is aborting with status: OUT_OF_RANGE: End of sequence\n",
      "\t [[{{node IteratorGetNext}}]]\n",
      "2024-05-17 23:32:41.584766: W tensorflow/core/framework/local_rendezvous.cc:404] Local rendezvous is aborting with status: OUT_OF_RANGE: End of sequence\n",
      "\t [[{{node IteratorGetNext}}]]\n"
     ]
    },
    {
     "name": "stdout",
     "output_type": "stream",
     "text": [
      "\u001b[1m52/52\u001b[0m \u001b[32m━━━━━━━━━━━━━━━━━━━━\u001b[0m\u001b[37m\u001b[0m \u001b[1m0s\u001b[0m 4s/step - accuracy: 0.6232 - loss: 0.6260"
     ]
    }
   ],
   "source": [
    "# finetuned_model.compile(\n",
    "#     optimizer=Adam(learning_rate=0.0001), loss=\"categorical_crossentropy\", metrics=[\"accuracy\"]\n",
    "# )\n",
    "# for c in train_generator.class_indices:\n",
    "#     classes[train_generator.class_indices[c]] = c\n",
    "# finetuned_model.classes = classes\n",
    "# early_stopping = EarlyStopping(patience=15)\n",
    "# checkpointer = ModelCheckpoint(\n",
    "#     \"resnet50_best.keras\",\n",
    "#     verbose=1,\n",
    "#     save_best_only=True,\n",
    "# )\n",
    "History = finetuned_model.fit(\n",
    "    train_generator,\n",
    "    steps_per_epoch=num_train_steps,\n",
    "    epochs=15,\n",
    "    callbacks=[early_stopping, checkpointer],\n",
    "    validation_data=valid_generator,\n",
    "    validation_steps=num_valid_steps,\n",
    ")\n",
    "save_history(History)\n",
    "plot_history(History)\n",
    "# end2 = time.process_time()\n",
    "# print(\"final is in \", end2 - start)"
   ]
  },
  {
   "cell_type": "markdown",
   "metadata": {},
   "source": [
    "Lần thứ 4 rồi (60 lần epoch)"
   ]
  }
 ],
 "metadata": {
  "kernelspec": {
   "display_name": "ai_env_3.12",
   "language": "python",
   "name": "python3"
  },
  "language_info": {
   "codemirror_mode": {
    "name": "ipython",
    "version": 3
   },
   "file_extension": ".py",
   "mimetype": "text/x-python",
   "name": "python",
   "nbconvert_exporter": "python",
   "pygments_lexer": "ipython3",
   "version": "3.12.3"
  }
 },
 "nbformat": 4,
 "nbformat_minor": 2
}
